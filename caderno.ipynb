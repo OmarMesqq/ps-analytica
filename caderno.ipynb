{
 "cells": [
  {
   "cell_type": "markdown",
   "source": [
    "# Análise das tendências políticas no município do Rio de Janeiro\n",
    "## Por Omar Mesquita\n",
    "\n",
    "Código do município do Rio de Janeiro: **3304557** (obtido no [site do IBGE](https://www.ibge.gov.br/cidades-e-estados/rj/rio-de-janeiro.html))\n",
    "\n",
    "[Aqui](https://www.tse.jus.br/servicos-eleitorais/cartorios-e-zonas-eleitorais/pesquisa-a-zonas-eleitorais) pode-se ver as zonas eleitorais no **estado** do Rio de Janeiro. Por uma consulta\n",
    "SQL podemos visualizar apenas zonas no **município** do Rio: <br><br>\n",
    "\n",
    "```SQL\n",
    "\n",
    "    SELECT ano, turno, sigla_uf, id_municipio, zona, numero_partido, resultado, votos\n",
    "    FROM `basedosdados.br_tse_eleicoes.resultados_candidato_municipio_zona`\n",
    "    WHERE cargo='presidente'\n",
    "      AND ano >= 2008\n",
    "      AND sigla_uf='RJ'\n",
    "      AND id_municipio = '3304557'\n",
    "    LIMIT 100\n",
    "```\n"
   ],
   "metadata": {
    "collapsed": false
   }
  },
  {
   "cell_type": "code",
   "execution_count": 1,
   "outputs": [],
   "source": [
    "# Por favor, execute essa célula antes de continuar\n",
    "# para garantir as importações de módulos\n",
    "\n",
    "import pandas as pd     # Leitura e tratamento de tabelas\n",
    "import basedosdados as bd   # API para acessar dados do TSE\n",
    "import os                   # Caminhos e I/O\n",
    "\n",
    "# Determina o diretório no qual o caderno está sendo executado\n",
    "currentDir = os.getcwd()"
   ],
   "metadata": {
    "collapsed": false
   }
  },
  {
   "cell_type": "markdown",
   "source": [
    "Devido à elevada quantidade de zonas eleitorais no município do Rio de Janeiro, faz-se necessário escolher aquelas que contenham a maior quantidade de pessoas votantes. Essa atitude viabiliza a análise dos dados e maximiza o espaço amostral do estudo *(e?)*\n",
    "\n",
    "Podemos obter essa informação na página oficial do Tribunal Superior Eleitoral de [estatísticas do eleitorado](https://www.tse.jus.br/eleicoes/estatisticas/estatisticas-de-eleitorado/consulta-por-municipio-zona).\n",
    "\n",
    "Para esse estudo, foi baixada uma tabela em formato `.csv` contendo dados da última eleição (**outubro de 2022**) no **estado do Rio de Janeiro (RJ)**"
   ],
   "metadata": {
    "collapsed": false
   }
  },
  {
   "cell_type": "code",
   "execution_count": 12,
   "outputs": [
    {
     "name": "stdout",
     "output_type": "stream",
     "text": [
      "/home/omar/j/dataspell_env\n",
      "            Mês/Ano  UF       Município  Zona  Quantidade  %  Unnamed: 6\n",
      "98   Outubro - 2022  RJ  RIO DE JANEIRO     4      121744  0         949\n",
      "99   Outubro - 2022  RJ  RIO DE JANEIRO     5      123307  0         961\n",
      "100  Outubro - 2022  RJ  RIO DE JANEIRO     7      111138  0         866\n",
      "101  Outubro - 2022  RJ  RIO DE JANEIRO     8       88360  0         689\n",
      "102  Outubro - 2022  RJ  RIO DE JANEIRO     9      145837  1         137\n",
      "103  Outubro - 2022  RJ  RIO DE JANEIRO    10       87452  0         682\n",
      "104  Outubro - 2022  RJ  RIO DE JANEIRO    14       90888  0         709\n",
      "105  Outubro - 2022  RJ  RIO DE JANEIRO    16      123286  0         961\n",
      "106  Outubro - 2022  RJ  RIO DE JANEIRO    17      115326  0         899\n",
      "107  Outubro - 2022  RJ  RIO DE JANEIRO    21       92673  0         722\n",
      "108  Outubro - 2022  RJ  RIO DE JANEIRO    22      117508  0         916\n",
      "109  Outubro - 2022  RJ  RIO DE JANEIRO    23       85107  0         663\n",
      "110  Outubro - 2022  RJ  RIO DE JANEIRO    24      103489  0         807\n",
      "111  Outubro - 2022  RJ  RIO DE JANEIRO    25       92222  0         719\n",
      "112  Outubro - 2022  RJ  RIO DE JANEIRO   118       65683  0         512\n",
      "113  Outubro - 2022  RJ  RIO DE JANEIRO   119      148836  1         160\n",
      "114  Outubro - 2022  RJ  RIO DE JANEIRO   120       80909  0         631\n",
      "115  Outubro - 2022  RJ  RIO DE JANEIRO   122       85691  0         668\n",
      "116  Outubro - 2022  RJ  RIO DE JANEIRO   123       92610  0         722\n",
      "117  Outubro - 2022  RJ  RIO DE JANEIRO   125      104044  0         811\n",
      "118  Outubro - 2022  RJ  RIO DE JANEIRO   161       91825  0         716\n",
      "119  Outubro - 2022  RJ  RIO DE JANEIRO   162      125033  0         975\n",
      "120  Outubro - 2022  RJ  RIO DE JANEIRO   167       72728  0         567\n",
      "121  Outubro - 2022  RJ  RIO DE JANEIRO   169       89657  0         699\n",
      "122  Outubro - 2022  RJ  RIO DE JANEIRO   170      135351  1          55\n",
      "123  Outubro - 2022  RJ  RIO DE JANEIRO   176       94607  0         738\n",
      "124  Outubro - 2022  RJ  RIO DE JANEIRO   179      140718  1          97\n",
      "125  Outubro - 2022  RJ  RIO DE JANEIRO   180       92066  0         718\n",
      "126  Outubro - 2022  RJ  RIO DE JANEIRO   182      103277  0         805\n",
      "127  Outubro - 2022  RJ  RIO DE JANEIRO   185      110111  0         858\n",
      "128  Outubro - 2022  RJ  RIO DE JANEIRO   188      136360  1          63\n",
      "129  Outubro - 2022  RJ  RIO DE JANEIRO   191      104758  0         817\n",
      "130  Outubro - 2022  RJ  RIO DE JANEIRO   192       64303  0         501\n",
      "131  Outubro - 2022  RJ  RIO DE JANEIRO   204      112462  0         877\n",
      "132  Outubro - 2022  RJ  RIO DE JANEIRO   211      102393  0         798\n",
      "133  Outubro - 2022  RJ  RIO DE JANEIRO   214      136949  1          68\n",
      "134  Outubro - 2022  RJ  RIO DE JANEIRO   216       84666  0         660\n",
      "135  Outubro - 2022  RJ  RIO DE JANEIRO   218      102212  0         797\n",
      "136  Outubro - 2022  RJ  RIO DE JANEIRO   219      107043  0         834\n",
      "137  Outubro - 2022  RJ  RIO DE JANEIRO   229      112589  0         878\n",
      "138  Outubro - 2022  RJ  RIO DE JANEIRO   230       62598  0         488\n",
      "139  Outubro - 2022  RJ  RIO DE JANEIRO   233      109668  0         855\n",
      "140  Outubro - 2022  RJ  RIO DE JANEIRO   234       86249  0         672\n",
      "141  Outubro - 2022  RJ  RIO DE JANEIRO   238      113700  0         886\n",
      "142  Outubro - 2022  RJ  RIO DE JANEIRO   241       70409  0         549\n",
      "143  Outubro - 2022  RJ  RIO DE JANEIRO   242       72229  0         563\n",
      "144  Outubro - 2022  RJ  RIO DE JANEIRO   243       79645  0         621\n",
      "145  Outubro - 2022  RJ  RIO DE JANEIRO   245      106791  0         833\n",
      "146  Outubro - 2022  RJ  RIO DE JANEIRO   246      106114  0         827\n"
     ]
    }
   ],
   "source": [
    "\n",
    "df = pd.read_csv(os.path.join(currentDir,\"csv\",\"quantidade_de_eleitores.csv\"))\n",
    "x = df.loc[df['Município'] == \"RIO DE JANEIRO\"]\n",
    "print(x)"
   ],
   "metadata": {
    "collapsed": false
   }
  },
  {
   "cell_type": "markdown",
   "source": [],
   "metadata": {
    "collapsed": false
   }
  }
 ],
 "metadata": {
  "kernelspec": {
   "display_name": "Python 3",
   "language": "python",
   "name": "python3"
  },
  "language_info": {
   "codemirror_mode": {
    "name": "ipython",
    "version": 2
   },
   "file_extension": ".py",
   "mimetype": "text/x-python",
   "name": "python",
   "nbconvert_exporter": "python",
   "pygments_lexer": "ipython2",
   "version": "2.7.6"
  }
 },
 "nbformat": 4,
 "nbformat_minor": 0
}
