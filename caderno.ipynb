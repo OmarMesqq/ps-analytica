{
 "cells": [
  {
   "cell_type": "markdown",
   "source": [
    "# Análise das tendências políticas no município do Rio de Janeiro\n",
    "## Por Omar Mesquita\n",
    "\n",
    "Código do município do Rio de Janeiro: **3304557** (obtido no [site do IBGE](https://www.ibge.gov.br/cidades-e-estados/rj/rio-de-janeiro.html))\n",
    "\n",
    "[Aqui](https://www.tse.jus.br/servicos-eleitorais/cartorios-e-zonas-eleitorais/pesquisa-a-zonas-eleitorais) pode-se ver as zonas eleitorais no **estado** do Rio de Janeiro. Por uma consulta\n",
    "SQL podemos visualizar apenas zonas no **município** do Rio: <br><br>\n",
    "\n",
    "```SQL\n",
    "\n",
    "    SELECT ano, turno, sigla_uf, id_municipio, zona, numero_partido, resultado, votos\n",
    "    FROM `basedosdados.br_tse_eleicoes.resultados_candidato_municipio_zona`\n",
    "    WHERE cargo='presidente'\n",
    "      AND ano >= 2008\n",
    "      AND sigla_uf='RJ'\n",
    "      AND id_municipio = '3304557'\n",
    "    LIMIT 100\n",
    "```\n"
   ],
   "metadata": {
    "collapsed": false
   }
  },
  {
   "cell_type": "code",
   "execution_count": 17,
   "outputs": [],
   "source": [
    "# Por favor, execute essa célula antes de continuar\n",
    "# a leitura para garantir as importações de módulos\n",
    "\n",
    "import pandas as pd     # Leitura e tratamento de tabelas\n",
    "import basedosdados as bd   # API para acessar dados do TSE\n",
    "import os                   # Caminhos e I/O\n",
    "\n",
    "# Determina o diretório no qual o caderno está sendo executado\n",
    "currentDir = os.getcwd()"
   ],
   "metadata": {
    "collapsed": false,
    "ExecuteTime": {
     "start_time": "2023-04-07T13:10:04.692222Z",
     "end_time": "2023-04-07T13:10:04.698484Z"
    }
   }
  },
  {
   "cell_type": "markdown",
   "source": [
    "Devido à elevada quantidade de zonas eleitorais no município do Rio de Janeiro, faz-se necessário escolher aquelas que contenham a maior quantidade de pessoas votantes. Essa atitude viabiliza a análise dos dados e maximiza o espaço amostral do estudo *(e?)*\n",
    "\n",
    "Podemos obter essa informação na página oficial do Tribunal Superior Eleitoral de [estatísticas do eleitorado](https://www.tse.jus.br/eleicoes/estatisticas/estatisticas-de-eleitorado/consulta-por-municipio-zona).\n",
    "\n",
    "Para esse estudo, foi baixada uma tabela em formato `.csv` contendo dados da última eleição (**outubro de 2022**) no **estado do Rio de Janeiro (RJ)**\n",
    "\n",
    "**Obs.:** A tabela foi baixada e, em seguida, salva em formato **UTF-8** para evitar problemas de codificação."
   ],
   "metadata": {
    "collapsed": false
   }
  },
  {
   "cell_type": "code",
   "execution_count": null,
   "outputs": [],
   "source": [
    "# Armazena o arquivo .csv em um DataFrame\n",
    "df = pd.read_csv(os.path.join(currentDir,\"csv\",\"quantidade_de_eleitores.csv\"))\n",
    "\n",
    "# Cria um DataFrame apenas com as colunas que serão utilizadas (Zona e Quantidade)\n",
    "# e satisfazem a condição de estarem no município do Rio de Janeiro.\n",
    "# Em seguida, ordena o DataFrame em ordem decrescente de quantidade de eleitores\n",
    "# e seleciona as 4 zonas com maior quantidade de eleitores.\n",
    "df_rj = df[ df[\"Município\"] == \"RIO DE JANEIRO\"] [['Zona', 'Quantidade']].sort_values(by='Quantidade', ascending=False).head(4)\n",
    "\n",
    "print(df_rj)"
   ],
   "metadata": {
    "collapsed": false,
    "ExecuteTime": {
     "start_time": "2023-04-02T15:20:17.153780Z",
     "end_time": "2023-04-02T15:20:17.194498Z"
    }
   }
  },
  {
   "cell_type": "markdown",
   "source": [
    "A partir da visualização da tabela, nota-se que as zonas eleitorais **119**, **9**, **179** e **214** são as que concentram maior quantidade de pessoas votantes.\n",
    "\n",
    "Dessa forma, é possível, agora, fazer uma análise dos resultados eleitorais dessas zonas.\n",
    "\n",
    "Para tanto, baixou-se uma tabela com informações sobre os resultados das eleições presidenciais de 2022 nas zonas eleitorais previamente citadas. Foi utilizada a API Python do [Base dos Dados](https://basedosdados.org/) e uma consulta SQL no interior da função para se obter tais dados."
   ],
   "metadata": {
    "collapsed": false
   }
  },
  {
   "cell_type": "code",
   "execution_count": 25,
   "outputs": [],
   "source": [
    "# AVISO! Caso você tenha baixado esse caderno ou o repositório,\n",
    "# não é necessário executar essa célula, pois os dados já foram baixados\n",
    "\n",
    "# Baixando tabelas correspondentes aos resultados das eleições, gênero e instrução do eleitorado\n",
    "zonas = [119, 9, 179, 214]\n",
    "\n",
    "for i in zonas:\n",
    "\n",
    "    bd.download(\n",
    "        savepath=os.path.join(currentDir,\"csv\",\"resultados\",f\"resultados_eleicoes_{i}.csv\"),\n",
    "        table_id=\"resultados_candidato_municipio_zona\",\n",
    "        billing_project_id=\"ufrjanalytica\",\n",
    "        query= f'''\n",
    "        SELECT turno, zona, numero_partido, resultado, votos, sigla_partido\n",
    "        FROM `basedosdados.br_tse_eleicoes.resultados_candidato_municipio_zona`\n",
    "        WHERE ano = 2022\n",
    "          AND sigla_uf = \"RJ\"\n",
    "          AND id_municipio = \"3304557\"\n",
    "          AND cargo = \"presidente\"\n",
    "          AND zona = {i}\n",
    "        LIMIT 1000\n",
    "        '''\n",
    "    )\n",
    "\n",
    "    bd.download(\n",
    "        savepath=os.path.join(currentDir,\"csv\",\"genero\",f\"genero_eleitorado_{i}.csv\"),\n",
    "        table_id=\"resultados_candidato_municipio_zona\",\n",
    "        billing_project_id=\"ufrjanalytica\",\n",
    "        query= f'''\n",
    "        SELECT genero, eleitores\n",
    "        FROM `basedosdados.br_tse_eleicoes.perfil_eleitorado_secao`\n",
    "        WHERE ano = 2022\n",
    "          AND sigla_uf = \"RJ\"\n",
    "          AND id_municipio = \"3304557\"\n",
    "          AND zona = {i}\n",
    "        LIMIT 1000\n",
    "        '''\n",
    "    )\n",
    "\n",
    "    bd.download(\n",
    "        savepath=os.path.join(currentDir,\"csv\",\"instrucao\",f\"instrucao_eleitorado_{i}.csv\"),\n",
    "        table_id=\"resultados_candidato_municipio_zona\",\n",
    "        billing_project_id=\"ufrjanalytica\",\n",
    "        query= f'''\n",
    "        SELECT instrucao, eleitores\n",
    "        FROM `basedosdados.br_tse_eleicoes.perfil_eleitorado_secao`\n",
    "        WHERE ano = 2022\n",
    "          AND sigla_uf = \"RJ\"\n",
    "          AND id_municipio = \"3304557\"\n",
    "          AND zona = {i}\n",
    "        LIMIT 1000\n",
    "        '''\n",
    "    )"
   ],
   "metadata": {
    "collapsed": false,
    "ExecuteTime": {
     "start_time": "2023-04-07T14:17:26.709370Z",
     "end_time": "2023-04-07T14:20:55.282461Z"
    }
   }
  },
  {
   "cell_type": "markdown",
   "source": [
    "## Uma breve discussão sobre alinhamento político\n",
    "\n",
    "Para dar sequência ao estudo, será necessário classificar os partidos com maior expressividade nas zonas eleitorais, isto é, aqueles presentes nas tabelas obtidas pela API do **Base dos Dados**.\n",
    "\n",
    "Trata-se, no entanto, de um assunto delicado e complexo uma vez que o alinhamento político é um conceito que varia conforme o contexto histórico, socioeconômico e considera outros fatores. Por exemplo, dois partidos distintos podem se posicionar de forma semelhante a respeito de uma dada pauta A, mas terem posições opostas em relação à pauta B.\n",
    "\n",
    "Assim, para fins de simplificação, será utilizada a classificação política feita pelo [Congresso em Foco](https://congressoemfoco.uol.com.br/area/pais/direita-cresce-e-engole-o-centro-no-congresso-mais-fragmentado-da-historia/), o qual classifica os partidos em esquerda, centro e direita.<sup>1</sup>\n",
    "\n",
    "Classificando os partidos:\n",
    "\n",
    "- `PDT (12)`: Esquerda\n",
    "- `PT (13)`: Esquerda\n",
    "- `PTB (14)`: Direita\n",
    "- `MDB (15)`: Centro\n",
    "- `PSTU (16)`: Esquerda\n",
    "- `PCB (21)`: Direita\n",
    "- `PL (22)`: Direita\n",
    "- `DC (27)`: Direita\n",
    "- `NOVO (30)`: Direita\n",
    "- `UNIÃO (44)`: Direita\n",
    "- `UP (80)`: Esquerda"
   ],
   "metadata": {
    "collapsed": false
   }
  },
  {
   "cell_type": "code",
   "execution_count": null,
   "outputs": [],
   "source": [
    "# Criação de DataFrames para cada zona eleitoral\n",
    "df9 = pd.read_csv(os.path.join(currentDir,\"csv\",\"resultados\",\"resultados_eleicoes_9.csv\"))\n",
    "df119 = pd.read_csv(os.path.join(currentDir,\"csv\",\"resultados\",\"resultados_eleicoes_119.csv\"))\n",
    "df179 = pd.read_csv(os.path.join(currentDir,\"csv\",\"resultados\",\"resultados_eleicoes_179.csv\"))\n",
    "df214 = pd.read_csv(os.path.join(currentDir,\"csv\",\"resultados\",\"resultados_eleicoes_214.csv\"))\n",
    "\n",
    "# Criação de arrays para cada alinhamento político\n",
    "esquerda = [12, 13, 16, 80]\n",
    "direita = [14, 21, 22, 27, 30, 44]\n",
    "centro = [15]"
   ],
   "metadata": {
    "collapsed": false,
    "ExecuteTime": {
     "start_time": "2023-04-07T13:40:51.337083Z",
     "end_time": "2023-04-07T13:40:51.380797Z"
    }
   }
  },
  {
   "cell_type": "code",
   "execution_count": 26,
   "outputs": [
    {
     "name": "stdout",
     "output_type": "stream",
     "text": [
      "Votos à esquerda na seção 9: 43137\n",
      "Votos à direita na seção 9: 62747\n",
      "Votos ao centro na seção 9: 5695\n"
     ]
    }
   ],
   "source": [
    "# Análise da zona eleitoral 9\n",
    "\n",
    "# Inicializa variáveis para armazenar os votos de cada alinhamento político\n",
    "esq_9 = 0\n",
    "dir_9 = 0\n",
    "centro_9 = 0\n",
    "\n",
    "# Percorre os arrays de cada alinhamento político e soma os votos de cada partido\n",
    "for i in esquerda:\n",
    "    esq_9 += df9.loc[df9[\"numero_partido\"] == i, [\"votos\"]].values[0][0]\n",
    "\n",
    "for i in direita:\n",
    "    dir_9 += df9.loc[df9[\"numero_partido\"] == i, [\"votos\"]].values[0][0]\n",
    "\n",
    "for i in centro:\n",
    "    centro_9 += df9.loc[df9[\"numero_partido\"] == i, [\"votos\"]].values[0][0]\n",
    "\n",
    "print(\"Votos à esquerda na seção 9:\", esq_9)\n",
    "print(\"Votos à direita na seção 9:\", dir_9)\n",
    "print(\"Votos ao centro na seção 9:\", centro_9)"
   ],
   "metadata": {
    "collapsed": false,
    "ExecuteTime": {
     "start_time": "2023-04-07T14:21:58.655947Z",
     "end_time": "2023-04-07T14:21:58.698824Z"
    }
   }
  },
  {
   "cell_type": "markdown",
   "source": [
    "# Referências bibliográficas\n",
    "\n",
    "[1] [Congresso em Foco](https://congressoemfoco.uol.com.br/area/pais/direita-cresce-e-engole-o-centro-no-congresso-mais-fragmentado-da-historia/)"
   ],
   "metadata": {
    "collapsed": false
   }
  }
 ],
 "metadata": {
  "kernelspec": {
   "display_name": "Python 3",
   "language": "python",
   "name": "python3"
  },
  "language_info": {
   "codemirror_mode": {
    "name": "ipython",
    "version": 2
   },
   "file_extension": ".py",
   "mimetype": "text/x-python",
   "name": "python",
   "nbconvert_exporter": "python",
   "pygments_lexer": "ipython2",
   "version": "2.7.6"
  }
 },
 "nbformat": 4,
 "nbformat_minor": 0
}
