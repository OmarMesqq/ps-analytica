{
 "cells": [
  {
   "cell_type": "markdown",
   "source": [
    "# Análise das tendências políticas no município do Rio de Janeiro\n",
    "## Por Omar Mesquita\n",
    "\n",
    "Código do município do Rio de Janeiro: **3304557** (obtido no [site do IBGE](https://www.ibge.gov.br/cidades-e-estados/rj/rio-de-janeiro.html))\n",
    "\n",
    "[Aqui](https://www.tse.jus.br/servicos-eleitorais/cartorios-e-zonas-eleitorais/pesquisa-a-zonas-eleitorais) pode-se ver as zonas eleitorais no **estado** do Rio de Janeiro. Por uma consulta\n",
    "SQL podemos visualizar apenas zonas no **município** do Rio: <br><br>\n",
    "\n",
    "```SQL\n",
    "\n",
    "    SELECT ano, turno, sigla_uf, id_municipio, zona, numero_partido, resultado, votos\n",
    "    FROM `basedosdados.br_tse_eleicoes.resultados_candidato_municipio_zona`\n",
    "    WHERE cargo='presidente'\n",
    "      AND ano >= 2008\n",
    "      AND sigla_uf='RJ'\n",
    "      AND id_municipio = '3304557'\n",
    "    LIMIT 100\n",
    "```\n"
   ],
   "metadata": {
    "collapsed": false
   }
  },
  {
   "cell_type": "code",
   "execution_count": 1,
   "outputs": [],
   "source": [
    "# Por favor, execute essa célula antes de continuar\n",
    "# a leitura para garantir as importações de módulos\n",
    "\n",
    "import pandas as pd     # Leitura e tratamento de tabelas\n",
    "import basedosdados as bd   # API para acessar dados do TSE\n",
    "import os                   # Caminhos e I/O\n",
    "import matplotlib.pyplot as plt # Gráficos\n",
    "\n",
    "# Determina o diretório no qual o caderno está sendo executado\n",
    "currentDir = os.getcwd()"
   ],
   "metadata": {
    "collapsed": false,
    "ExecuteTime": {
     "start_time": "2023-04-03T13:03:37.316361Z",
     "end_time": "2023-04-03T13:03:47.649841Z"
    }
   }
  },
  {
   "cell_type": "markdown",
   "source": [
    "Devido à elevada quantidade de zonas eleitorais no município do Rio de Janeiro, faz-se necessário escolher aquelas que contenham a maior quantidade de pessoas votantes. Essa atitude viabiliza a análise dos dados e maximiza o espaço amostral do estudo *(e?)*\n",
    "\n",
    "Podemos obter essa informação na página oficial do Tribunal Superior Eleitoral de [estatísticas do eleitorado](https://www.tse.jus.br/eleicoes/estatisticas/estatisticas-de-eleitorado/consulta-por-municipio-zona).\n",
    "\n",
    "Para esse estudo, foi baixada uma tabela em formato `.csv` contendo dados da última eleição (**outubro de 2022**) no **estado do Rio de Janeiro (RJ)**\n",
    "\n",
    "**Obs.:** A tabela foi baixada e, em seguida, salva em formato **UTF-8** para evitar problemas de codificação."
   ],
   "metadata": {
    "collapsed": false
   }
  },
  {
   "cell_type": "code",
   "execution_count": 16,
   "outputs": [
    {
     "name": "stdout",
     "output_type": "stream",
     "text": [
      "     Zona  Quantidade\n",
      "113   119      148555\n",
      "102     9      146008\n",
      "124   179      140924\n",
      "133   214      136384\n"
     ]
    }
   ],
   "source": [
    "# Armazena o arquivo .csv em um DataFrame\n",
    "df = pd.read_csv(os.path.join(currentDir,\"csv\",\"quantidade_de_eleitores.csv\"))\n",
    "\n",
    "# Cria um DataFrame apenas com as colunas que serão utilizadas (Zona e Quantidade)\n",
    "# e satisfazem a condição de estarem no município do Rio de Janeiro.\n",
    "# Em seguida, ordena o DataFrame em ordem decrescente de quantidade de eleitores\n",
    "# e seleciona as 4 zonas com maior quantidade de eleitores.\n",
    "df_rj = df[ df[\"Município\"] == \"RIO DE JANEIRO\"] [['Zona', 'Quantidade']].sort_values(by='Quantidade', ascending=False).head(4)\n",
    "\n",
    "print(df_rj)"
   ],
   "metadata": {
    "collapsed": false,
    "ExecuteTime": {
     "start_time": "2023-04-02T15:20:17.153780Z",
     "end_time": "2023-04-02T15:20:17.194498Z"
    }
   }
  },
  {
   "cell_type": "markdown",
   "source": [
    "A partir da visualização da tabela, nota-se que as zonas eleitorais **119**, **9**, **179** e **214** são as que concentram maior quantidade de pessoas votantes.\n",
    "\n",
    "Dessa forma, é possível, agora, fazer uma análise dos resultados eleitorais dessas zonas.\n",
    "\n",
    "Para tanto, baixou-se uma tabela com informações sobre os resultados das eleições presidenciais de 2022 nas zonas eleitorais previamente citadas. Foi utilizada a API Python do [Base dos Dados](https://basedosdados.org/) e uma consulta SQL no interior da função para se obter tais dados."
   ],
   "metadata": {
    "collapsed": false
   }
  },
  {
   "cell_type": "code",
   "execution_count": 5,
   "outputs": [],
   "source": [
    "# AVISO! Caso você tenha baixado esse caderno ou o repositório,\n",
    "# não é necessário executar essa célula, pois os dados já foram baixados\n",
    "zonas = [119, 9, 179, 214]\n",
    "\n",
    "for i in zonas:\n",
    "\n",
    "    bd.download(\n",
    "        savepath=os.path.join(currentDir,\"csv\",f\"resultados_eleicoes_{i}.csv\"),\n",
    "        table_id=\"resultados_candidato_municipio_zona\",\n",
    "        billing_project_id=\"ufrjanalytica\",\n",
    "        query= f'''\n",
    "        SELECT turno, zona, numero_partido, resultado, votos, sigla_partido\n",
    "        FROM `basedosdados.br_tse_eleicoes.resultados_candidato_municipio_zona`\n",
    "        WHERE ano = 2022\n",
    "          AND sigla_uf = \"RJ\"\n",
    "          AND id_municipio = \"3304557\"\n",
    "          AND cargo = \"presidente\"\n",
    "          AND zona = {i}\n",
    "        LIMIT 1000\n",
    "        '''\n",
    "\n",
    ")"
   ],
   "metadata": {
    "collapsed": false,
    "ExecuteTime": {
     "start_time": "2023-04-03T16:33:42.229766Z",
     "end_time": "2023-04-03T16:34:19.019872Z"
    }
   }
  }
 ],
 "metadata": {
  "kernelspec": {
   "display_name": "Python 3",
   "language": "python",
   "name": "python3"
  },
  "language_info": {
   "codemirror_mode": {
    "name": "ipython",
    "version": 2
   },
   "file_extension": ".py",
   "mimetype": "text/x-python",
   "name": "python",
   "nbconvert_exporter": "python",
   "pygments_lexer": "ipython2",
   "version": "2.7.6"
  }
 },
 "nbformat": 4,
 "nbformat_minor": 0
}
