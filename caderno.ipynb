{
 "cells": [
  {
   "cell_type": "markdown",
   "source": [
    "# Análise das tendências políticas no município do Rio de Janeiro\n",
    "## Por Omar Mesquita\n",
    "\n",
    "Código do município do Rio de Janeiro: **3304557** (obtido no [site do IBGE](https://www.ibge.gov.br/cidades-e-estados/rj/rio-de-janeiro.html))\n",
    "\n",
    "[Aqui](https://www.tse.jus.br/servicos-eleitorais/cartorios-e-zonas-eleitorais/pesquisa-a-zonas-eleitorais) pode-se ver as zonas eleitorais no **estado** do Rio de Janeiro. Por uma consulta\n",
    "SQL podemos visualizar apenas zonas no **município** do Rio: <br><br>\n",
    "\n",
    "```SQL\n",
    "\n",
    "    SELECT ano, turno, sigla_uf, id_municipio, zona, numero_partido, resultado, votos\n",
    "    FROM `basedosdados.br_tse_eleicoes.resultados_candidato_municipio_zona`\n",
    "    WHERE cargo='presidente'\n",
    "      AND ano >= 2008\n",
    "      AND sigla_uf='RJ'\n",
    "      AND id_municipio = '3304557'\n",
    "    LIMIT 100\n",
    "```\n"
   ],
   "metadata": {
    "collapsed": false
   }
  },
  {
   "cell_type": "code",
   "execution_count": null,
   "outputs": [],
   "source": [
    "# Por favor, execute essa célula antes de continuar\n",
    "# a leitura para garantir as importações de módulos\n",
    "\n",
    "import pandas as pd     # Leitura e tratamento de tabelas\n",
    "import basedosdados as bd   # API para acessar dados do TSE\n",
    "import os                   # Caminhos e I/O\n",
    "import matplotlib.pyplot as plt # Gráficos\n",
    "\n",
    "# Determina o diretório no qual o caderno está sendo executado\n",
    "currentDir = os.getcwd()"
   ],
   "metadata": {
    "collapsed": false,
    "ExecuteTime": {
     "start_time": "2023-04-02T13:18:44.920926Z",
     "end_time": "2023-04-02T13:18:51.434578Z"
    }
   }
  },
  {
   "cell_type": "markdown",
   "source": [
    "Devido à elevada quantidade de zonas eleitorais no município do Rio de Janeiro, faz-se necessário escolher aquelas que contenham a maior quantidade de pessoas votantes. Essa atitude viabiliza a análise dos dados e maximiza o espaço amostral do estudo *(e?)*\n",
    "\n",
    "Podemos obter essa informação na página oficial do Tribunal Superior Eleitoral de [estatísticas do eleitorado](https://www.tse.jus.br/eleicoes/estatisticas/estatisticas-de-eleitorado/consulta-por-municipio-zona).\n",
    "\n",
    "Para esse estudo, foi baixada uma tabela em formato `.csv` contendo dados da última eleição (**outubro de 2022**) no **estado do Rio de Janeiro (RJ)**\n",
    "\n",
    "**Obs.:** A tabela foi baixada e, em seguida, salva em formato **UTF-8** para evitar problemas de codificação."
   ],
   "metadata": {
    "collapsed": false
   }
  },
  {
   "cell_type": "code",
   "execution_count": 27,
   "outputs": [
    {
     "name": "stdout",
     "output_type": "stream",
     "text": [
      "['100941', '101105', '101798', '102166', '102215', '102370', '102699', '103147', '103339', '103997', '104126', '104332', '104433', '104572', '106069', '106570', '106689', '10836', '109103', '109167', '109847', '11049', '110551', '111758', '112136', '112199', '113280', '113660', '113803', '114757', '115195', '11667', '117095', '118067', '120373', '12058', '120909', '121229', '122623', '122767', '12289', '124501', '126486', '12823', '12830', '134211', '134779', '135877', '136384', '138962', '140924', '143719', '14392', '14418', '146008', '14671', '148555', '15666', '15689', '15944', '16575', '16935', '17171', '17677', '17780', '18043', '19126', '19591', '20038', '20134', '22372', '22680', '22941', '23288', '23997', '25389', '25865', '27007', '30327', '30705', '31822', '32821', '32950', '33170', '33182', '33278', '33820', '33883', '34357', '38407', '38714', '39403', '42151', '42914', '45248', '45595', '46786', '57682', '57938', '58784', '59222', '61170', '62494', '63188', '63627', '63911', '64141', '64306', '65467', '67639', '69512', '70155', '70328', '70554', '7122', '71396', '71544', '72000', '72008', '72502', '73190', '7336', '7349', '74238', '74440', '75206', '75241', '75500', '7735', '77619', '79287', '79837', '80334', '80520', '8066', '80806', '81570', '82941', '82947', '83114', '83286', '83391', '84411', '84739', '84752', '85702', '8580', '85963', '8637', '87121', '8728', '87730', '88130', '88284', '89419', '89898', '8991', '90126', '90447', '90933', '91118', '91279', '91794', '91865', '92245', '92313', '92438', '92835', '93361', '94313', '94648', '94757', '95397', '95404', '95562', '95586', '96128', '9681', '9796', '98686', '98781', '99447', '9953']\n"
     ]
    }
   ],
   "source": [
    "df = pd.read_csv(os.path.join(currentDir,\"csv\",\"quantidade_de_eleitores.csv\"))\n",
    "x = df.loc[df['Município'] == \"RIO DE JANEIRO\"]\n",
    "\n",
    "y = []\n",
    "for i in df[['Quantidade']].to_string(index=False).split():\n",
    "    # Ignora o primeiro elemento da lista (nome da coluna)\n",
    "    if i == 'Quantidade':\n",
    "        continue\n",
    "    else:\n",
    "        y.append(i)\n",
    "\n",
    "print(sorted(y))\n"
   ],
   "metadata": {
    "collapsed": false,
    "ExecuteTime": {
     "start_time": "2023-04-02T13:47:21.195263Z",
     "end_time": "2023-04-02T13:47:21.238244Z"
    }
   }
  },
  {
   "cell_type": "markdown",
   "source": [],
   "metadata": {
    "collapsed": false
   }
  }
 ],
 "metadata": {
  "kernelspec": {
   "display_name": "Python 3",
   "language": "python",
   "name": "python3"
  },
  "language_info": {
   "codemirror_mode": {
    "name": "ipython",
    "version": 2
   },
   "file_extension": ".py",
   "mimetype": "text/x-python",
   "name": "python",
   "nbconvert_exporter": "python",
   "pygments_lexer": "ipython2",
   "version": "2.7.6"
  }
 },
 "nbformat": 4,
 "nbformat_minor": 0
}
